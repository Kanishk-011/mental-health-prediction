{
 "cells": [
  {
   "cell_type": "code",
   "execution_count": 1,
   "metadata": {
    "id": "gkRuHirjjBSg"
   },
   "outputs": [],
   "source": [
    "# Create a app for the mental Health Prediction by using the supervised learning (Random Forest classifier) and the Neural Networking"
   ]
  },
  {
   "cell_type": "code",
   "execution_count": 2,
   "metadata": {
    "id": "BOuWTg11EzA-"
   },
   "outputs": [],
   "source": [
    "# Load the libaries\n",
    "\n",
    "import pandas as pd\n",
    "import numpy as np\n",
    "import matplotlib.pyplot as plt\n",
    "import seaborn as sns\n",
    "import joblib\n",
    "from sklearn.ensemble import RandomForestClassifier\n",
    "from sklearn.model_selection import train_test_split\n",
    "from sklearn.preprocessing import LabelEncoder, label_binarize, StandardScaler\n",
    "from sklearn.metrics import accuracy_score, precision_score, recall_score, f1_score, confusion_matrix, classification_report, roc_curve, auc\n",
    "from sklearn.multiclass import OneVsRestClassifier\n",
    "from tensorflow.keras.models import Sequential\n",
    "from tensorflow.keras.layers import Dense, Dropout\n",
    "from tensorflow.keras.utils import to_categorical\n",
    "import tensorflow as tf\n",
    "import os\n",
    "from tensorflow.keras.callbacks import EarlyStopping"
   ]
  },
  {
   "cell_type": "code",
   "execution_count": 3,
   "metadata": {
    "id": "0ETErcDJP91x"
   },
   "outputs": [],
   "source": [
    "#models directory exists\n",
    "\n",
    "os.makedirs(\"models\", exist_ok=True)"
   ]
  },
  {
   "cell_type": "code",
   "execution_count": 4,
   "metadata": {
    "colab": {
     "base_uri": "https://localhost:8080/",
     "height": 261
    },
    "id": "kDMYYcsajgj4",
    "outputId": "8b73c798-3ae7-4df3-e979-8e76e49be0cb"
   },
   "outputs": [
    {
     "name": "stdout",
     "output_type": "stream",
     "text": [
      "Initial Shape: (10000, 14)\n"
     ]
    },
    {
     "data": {
      "text/html": [
       "<div>\n",
       "<style scoped>\n",
       "    .dataframe tbody tr th:only-of-type {\n",
       "        vertical-align: middle;\n",
       "    }\n",
       "\n",
       "    .dataframe tbody tr th {\n",
       "        vertical-align: top;\n",
       "    }\n",
       "\n",
       "    .dataframe thead th {\n",
       "        text-align: right;\n",
       "    }\n",
       "</style>\n",
       "<table border=\"1\" class=\"dataframe\">\n",
       "  <thead>\n",
       "    <tr style=\"text-align: right;\">\n",
       "      <th></th>\n",
       "      <th>age</th>\n",
       "      <th>gender</th>\n",
       "      <th>employment_status</th>\n",
       "      <th>work_environment</th>\n",
       "      <th>mental_health_history</th>\n",
       "      <th>seeks_treatment</th>\n",
       "      <th>stress_level</th>\n",
       "      <th>sleep_hours</th>\n",
       "      <th>physical_activity_days</th>\n",
       "      <th>depression_score</th>\n",
       "      <th>anxiety_score</th>\n",
       "      <th>social_support_score</th>\n",
       "      <th>productivity_score</th>\n",
       "      <th>mental_health_risk</th>\n",
       "    </tr>\n",
       "  </thead>\n",
       "  <tbody>\n",
       "    <tr>\n",
       "      <th>0</th>\n",
       "      <td>56</td>\n",
       "      <td>Male</td>\n",
       "      <td>Employed</td>\n",
       "      <td>On-site</td>\n",
       "      <td>Yes</td>\n",
       "      <td>Yes</td>\n",
       "      <td>6</td>\n",
       "      <td>6.2</td>\n",
       "      <td>3</td>\n",
       "      <td>28</td>\n",
       "      <td>17</td>\n",
       "      <td>54</td>\n",
       "      <td>59.7</td>\n",
       "      <td>High</td>\n",
       "    </tr>\n",
       "    <tr>\n",
       "      <th>1</th>\n",
       "      <td>46</td>\n",
       "      <td>Female</td>\n",
       "      <td>Student</td>\n",
       "      <td>On-site</td>\n",
       "      <td>No</td>\n",
       "      <td>Yes</td>\n",
       "      <td>10</td>\n",
       "      <td>9.0</td>\n",
       "      <td>4</td>\n",
       "      <td>30</td>\n",
       "      <td>11</td>\n",
       "      <td>85</td>\n",
       "      <td>54.9</td>\n",
       "      <td>High</td>\n",
       "    </tr>\n",
       "    <tr>\n",
       "      <th>2</th>\n",
       "      <td>32</td>\n",
       "      <td>Female</td>\n",
       "      <td>Employed</td>\n",
       "      <td>On-site</td>\n",
       "      <td>Yes</td>\n",
       "      <td>No</td>\n",
       "      <td>7</td>\n",
       "      <td>7.7</td>\n",
       "      <td>2</td>\n",
       "      <td>24</td>\n",
       "      <td>7</td>\n",
       "      <td>62</td>\n",
       "      <td>61.3</td>\n",
       "      <td>Medium</td>\n",
       "    </tr>\n",
       "    <tr>\n",
       "      <th>3</th>\n",
       "      <td>60</td>\n",
       "      <td>Non-binary</td>\n",
       "      <td>Self-employed</td>\n",
       "      <td>On-site</td>\n",
       "      <td>No</td>\n",
       "      <td>No</td>\n",
       "      <td>4</td>\n",
       "      <td>4.5</td>\n",
       "      <td>4</td>\n",
       "      <td>6</td>\n",
       "      <td>0</td>\n",
       "      <td>95</td>\n",
       "      <td>97.0</td>\n",
       "      <td>Low</td>\n",
       "    </tr>\n",
       "    <tr>\n",
       "      <th>4</th>\n",
       "      <td>25</td>\n",
       "      <td>Female</td>\n",
       "      <td>Self-employed</td>\n",
       "      <td>On-site</td>\n",
       "      <td>Yes</td>\n",
       "      <td>Yes</td>\n",
       "      <td>3</td>\n",
       "      <td>5.4</td>\n",
       "      <td>0</td>\n",
       "      <td>24</td>\n",
       "      <td>12</td>\n",
       "      <td>70</td>\n",
       "      <td>69.0</td>\n",
       "      <td>High</td>\n",
       "    </tr>\n",
       "  </tbody>\n",
       "</table>\n",
       "</div>"
      ],
      "text/plain": [
       "   age      gender employment_status work_environment mental_health_history  \\\n",
       "0   56        Male          Employed          On-site                   Yes   \n",
       "1   46      Female           Student          On-site                    No   \n",
       "2   32      Female          Employed          On-site                   Yes   \n",
       "3   60  Non-binary     Self-employed          On-site                    No   \n",
       "4   25      Female     Self-employed          On-site                   Yes   \n",
       "\n",
       "  seeks_treatment  stress_level  sleep_hours  physical_activity_days  \\\n",
       "0             Yes             6          6.2                       3   \n",
       "1             Yes            10          9.0                       4   \n",
       "2              No             7          7.7                       2   \n",
       "3              No             4          4.5                       4   \n",
       "4             Yes             3          5.4                       0   \n",
       "\n",
       "   depression_score  anxiety_score  social_support_score  productivity_score  \\\n",
       "0                28             17                    54                59.7   \n",
       "1                30             11                    85                54.9   \n",
       "2                24              7                    62                61.3   \n",
       "3                 6              0                    95                97.0   \n",
       "4                24             12                    70                69.0   \n",
       "\n",
       "  mental_health_risk  \n",
       "0               High  \n",
       "1               High  \n",
       "2             Medium  \n",
       "3                Low  \n",
       "4               High  "
      ]
     },
     "execution_count": 4,
     "metadata": {},
     "output_type": "execute_result"
    }
   ],
   "source": [
    "# Load dataset\n",
    "\n",
    "df = pd.read_csv(\"mental_health_dataset.csv\")\n",
    "\n",
    "print(\"Initial Shape:\", df.shape)\n",
    "df.head()"
   ]
  },
  {
   "cell_type": "code",
   "execution_count": 5,
   "metadata": {
    "id": "a-RwRirvzYml"
   },
   "outputs": [],
   "source": [
    "# Processing the EDA on the Dataset"
   ]
  },
  {
   "cell_type": "code",
   "execution_count": 6,
   "metadata": {
    "colab": {
     "base_uri": "https://localhost:8080/",
     "height": 523
    },
    "id": "QT2zLHf4juqa",
    "outputId": "e6b304aa-a596-4971-c781-95ed10956ae4"
   },
   "outputs": [
    {
     "data": {
      "text/plain": [
       "age                       0\n",
       "gender                    0\n",
       "employment_status         0\n",
       "work_environment          0\n",
       "mental_health_history     0\n",
       "seeks_treatment           0\n",
       "stress_level              0\n",
       "sleep_hours               0\n",
       "physical_activity_days    0\n",
       "depression_score          0\n",
       "anxiety_score             0\n",
       "social_support_score      0\n",
       "productivity_score        0\n",
       "mental_health_risk        0\n",
       "dtype: int64"
      ]
     },
     "execution_count": 6,
     "metadata": {},
     "output_type": "execute_result"
    }
   ],
   "source": [
    "# 1. NULL VALUE CHECK\n",
    "\n",
    "df.isna().sum(axis=0)"
   ]
  },
  {
   "cell_type": "code",
   "execution_count": 7,
   "metadata": {
    "colab": {
     "base_uri": "https://localhost:8080/"
    },
    "id": "PZwoGnS5S1L0",
    "outputId": "eae2afae-e3a6-439d-cddf-55ee9ceef48f"
   },
   "outputs": [
    {
     "name": "stdout",
     "output_type": "stream",
     "text": [
      "After Dropping Nulls: (10000, 14)\n"
     ]
    }
   ],
   "source": [
    "# Drop rows with any nulls (or you can use imputation)\n",
    "\n",
    "df.dropna(inplace=True)\n",
    "print(\"After Dropping Nulls:\", df.shape)"
   ]
  },
  {
   "cell_type": "code",
   "execution_count": 8,
   "metadata": {
    "colab": {
     "base_uri": "https://localhost:8080/"
    },
    "id": "CpDkmaeHk56J",
    "outputId": "14f6b25b-57cc-4abc-bf09-2a1e19adcec2"
   },
   "outputs": [
    {
     "data": {
      "text/plain": [
       "array(['Male', 'Female', 'Non-binary', 'Prefer not to say'], dtype=object)"
      ]
     },
     "execution_count": 8,
     "metadata": {},
     "output_type": "execute_result"
    }
   ],
   "source": [
    "# 2. CLEAN GENDER COLUMN\n",
    "\n",
    "df[\"gender\"].unique()"
   ]
  },
  {
   "cell_type": "code",
   "execution_count": 9,
   "metadata": {
    "colab": {
     "base_uri": "https://localhost:8080/",
     "height": 241
    },
    "id": "S0_uDrG_THTC",
    "outputId": "56ffd26e-32c4-4b75-bc2f-7d23957626dd"
   },
   "outputs": [
    {
     "data": {
      "text/plain": [
       "gender\n",
       "Male                 4557\n",
       "Female               4457\n",
       "Non-binary            520\n",
       "Prefer not to say     466\n",
       "Name: count, dtype: int64"
      ]
     },
     "execution_count": 9,
     "metadata": {},
     "output_type": "execute_result"
    }
   ],
   "source": [
    "df[\"gender\"].value_counts()"
   ]
  },
  {
   "cell_type": "code",
   "execution_count": 10,
   "metadata": {
    "id": "x2dmDXBfjwWv"
   },
   "outputs": [],
   "source": [
    "# Normalize gender values\n",
    "df['gender'] = df['gender'].str.lower().str.strip()\n",
    "df['gender'] = df['gender'].replace({\n",
    "    'm': 'male', 'mail': 'male',\n",
    "    'f': 'female', 'femlae': 'female', 'femal': 'female',\n",
    "    'non binary': 'non-binary', 'trans': 'non-binary'\n",
    "})"
   ]
  },
  {
   "cell_type": "code",
   "execution_count": 11,
   "metadata": {
    "colab": {
     "base_uri": "https://localhost:8080/"
    },
    "id": "9Qk45PkOwrZa",
    "outputId": "8489ad89-ee6a-4fa3-d508-269649a01128"
   },
   "outputs": [
    {
     "name": "stdout",
     "output_type": "stream",
     "text": [
      " Cleaned Gender Values: ['male' 'female' 'non-binary']\n"
     ]
    }
   ],
   "source": [
    "# Filter valid gender values only\n",
    "valid_genders = ['male', 'female', 'non-binary']\n",
    "df = df[df['gender'].isin(valid_genders)]\n",
    "print(\" Cleaned Gender Values:\", df['gender'].unique())"
   ]
  },
  {
   "cell_type": "code",
   "execution_count": 12,
   "metadata": {
    "colab": {
     "base_uri": "https://localhost:8080/"
    },
    "id": "AkIfBDUZw4pn",
    "outputId": "f7930a26-ebbb-4648-e876-a80b06f6e9f7"
   },
   "outputs": [
    {
     "name": "stdout",
     "output_type": "stream",
     "text": [
      "Age Summary:\n",
      " count    9534.000000\n",
      "mean       41.535872\n",
      "std        13.744561\n",
      "min        18.000000\n",
      "25%        30.000000\n",
      "50%        41.500000\n",
      "75%        53.000000\n",
      "max        65.000000\n",
      "Name: age, dtype: float64\n"
     ]
    }
   ],
   "source": [
    "# 3. VALIDATE AGE RANGE\n",
    "\n",
    "print(\"Age Summary:\\n\", df['age'].describe())"
   ]
  },
  {
   "cell_type": "code",
   "execution_count": 13,
   "metadata": {
    "id": "Mj33Qfvzw4xl"
   },
   "outputs": [],
   "source": [
    "# Remove unrealistic ages\n",
    "df = df[(df['age'] >= 10) & (df['age'] <= 100)]"
   ]
  },
  {
   "cell_type": "code",
   "execution_count": 14,
   "metadata": {
    "id": "YNGj8_NexLOI"
   },
   "outputs": [],
   "source": [
    "# 4. OUTLIER DETECTION & REMOVAL\n",
    "\n",
    "def remove_outliers_iqr(dataframe, col):\n",
    "    Q1 = dataframe[col].quantile(0.25)\n",
    "    Q3 = dataframe[col].quantile(0.75)\n",
    "    IQR = Q3 - Q1\n",
    "    lower = Q1 - 1.5 * IQR\n",
    "    upper = Q3 + 1.5 * IQR\n",
    "    return dataframe[(dataframe[col] >= lower) & (dataframe[col] <= upper)]"
   ]
  },
  {
   "cell_type": "code",
   "execution_count": 15,
   "metadata": {
    "id": "pMswHmmexLRb"
   },
   "outputs": [],
   "source": [
    "# Apply to all numerical columns\n",
    "num_cols = df.select_dtypes(include=['int64', 'float64']).columns\n",
    "\n",
    "for col in num_cols:\n",
    "    df = remove_outliers_iqr(df, col)"
   ]
  },
  {
   "cell_type": "code",
   "execution_count": 16,
   "metadata": {
    "colab": {
     "base_uri": "https://localhost:8080/"
    },
    "id": "ucPuJe2yxLUz",
    "outputId": "b720b32d-bfc3-4243-b7d4-181e9d9cb6fd"
   },
   "outputs": [
    {
     "name": "stdout",
     "output_type": "stream",
     "text": [
      "Final Cleaned Data Summary:\n",
      "                age  stress_level  sleep_hours  physical_activity_days  \\\n",
      "count  9534.000000   9534.000000  9534.000000             9534.000000   \n",
      "mean     41.535872      5.569436     6.467915                3.503356   \n",
      "std      13.744561      2.881912     1.473020                2.281864   \n",
      "min      18.000000      1.000000     3.000000                0.000000   \n",
      "25%      30.000000      3.000000     5.500000                2.000000   \n",
      "50%      41.500000      6.000000     6.500000                4.000000   \n",
      "75%      53.000000      8.000000     7.500000                5.000000   \n",
      "max      65.000000     10.000000    10.000000                7.000000   \n",
      "\n",
      "       depression_score  anxiety_score  social_support_score  \\\n",
      "count       9534.000000    9534.000000           9534.000000   \n",
      "mean          15.053073      10.548039             50.224670   \n",
      "std            8.983295       6.333054             29.227623   \n",
      "min            0.000000       0.000000              0.000000   \n",
      "25%            7.000000       5.000000             25.000000   \n",
      "50%           15.000000      11.000000             50.000000   \n",
      "75%           23.000000      16.000000             76.000000   \n",
      "max           30.000000      21.000000            100.000000   \n",
      "\n",
      "       productivity_score  \n",
      "count         9534.000000  \n",
      "mean            77.297556  \n",
      "std             14.051516  \n",
      "min             42.800000  \n",
      "25%             65.800000  \n",
      "50%             77.500000  \n",
      "75%             89.100000  \n",
      "max            100.000000  \n",
      "Final Shape after EDA: (9534, 14)\n"
     ]
    }
   ],
   "source": [
    "print(\"Final Cleaned Data Summary:\\n\", df.describe())\n",
    "print(\"Final Shape after EDA:\", df.shape)"
   ]
  },
  {
   "cell_type": "code",
   "execution_count": 17,
   "metadata": {
    "colab": {
     "base_uri": "https://localhost:8080/",
     "height": 1000
    },
    "id": "ed5ZlS7NybQs",
    "outputId": "471ee815-3fe2-4fd9-e538-23e16fe485ed"
   },
   "outputs": [
    {
     "data": {
      "image/png": "[encoded data removed]",
      "text/plain": [
       "<Figure size 640x480 with 1 Axes>"
      ]
     },
     "metadata": {},
     "output_type": "display_data"
    },
    {
     "data": {
      "image/png": "[encoded data removed]",
      "text/plain": [
       "<Figure size 640x480 with 1 Axes>"
      ]
     },
     "metadata": {},
     "output_type": "display_data"
    },
    {
     "data": {
      "image/png": "[encoded data removed]",
      "text/plain": [
       "<Figure size 640x480 with 1 Axes>"
      ]
     },
     "metadata": {},
     "output_type": "display_data"
    },
    {
     "data": {
      "image/png": "[encoded data removed]",
      "text/plain": [
       "<Figure size 640x480 with 1 Axes>"
      ]
     },
     "metadata": {},
     "output_type": "display_data"
    },
    {
     "data": {
      "image/png": "[encoded data removed]",
      "text/plain": [
       "<Figure size 640x480 with 1 Axes>"
      ]
     },
     "metadata": {},
     "output_type": "display_data"
    },
    {
     "data": {
      "image/png": "[encoded data removed]",
      "text/plain": [
       "<Figure size 640x480 with 1 Axes>"
      ]
     },
     "metadata": {},
     "output_type": "display_data"
    },
    {
     "data": {
      "image/png": "[encoded data removed]",
      "text/plain": [
       "<Figure size 640x480 with 1 Axes>"
      ]
     },
     "metadata": {},
     "output_type": "display_data"
    },
    {
     "data": {
      "image/png": "[encoded data removed]",
      "text/plain": [
       "<Figure size 640x480 with 1 Axes>"
      ]
     },
     "metadata": {},
     "output_type": "display_data"
    }
   ],
   "source": [
    "# 5 VISUALIZATION of EDA\n",
    "for col in num_cols:\n",
    "  sns.boxplot(data = df, x = col)\n",
    "  plt.title(f\"BoxPlot for {col}\")\n",
    "  plt.show()"
   ]
  },
  {
   "cell_type": "code",
   "execution_count": 18,
   "metadata": {
    "id": "OvUyYOPkzhhI"
   },
   "outputs": [],
   "source": [
    "# Pre-Processing of Dataset"
   ]
  },
  {
   "cell_type": "code",
   "execution_count": 19,
   "metadata": {
    "id": "4zRJD5N9zp19"
   },
   "outputs": [],
   "source": [
    "# 1. Separate Features & Target\n",
    "\n",
    "target_col = 'mental_health_risk'\n",
    "X = df.drop(columns=[target_col])\n",
    "y = df[target_col]"
   ]
  },
  {
   "cell_type": "code",
   "execution_count": 20,
   "id": "f2bd34d0",
   "metadata": {},
   "outputs": [],
   "source": [
    "from sklearn.preprocessing import LabelEncoder\n",
    "\n",
    "# Encode target labels\n",
    "label_encoder = LabelEncoder()\n",
    "y_encoded = label_encoder.fit_transform(y)"
   ]
  },
  {
   "cell_type": "code",
   "execution_count": 21,
   "metadata": {
    "colab": {
     "base_uri": "https://localhost:8080/"
    },
    "id": "HkcRsSQazp5r",
    "outputId": "d71f30dd-82dc-43d1-c9d6-25470abe203e"
   },
   "outputs": [
    {
     "name": "stdout",
     "output_type": "stream",
     "text": [
      "All label encoders saved successfully as a dictionary in models/label_encoder.pkl\n"
     ]
    }
   ],
   "source": [
    "# 2. Encode Target Labels (Low, Medium, High → 0, 1, 2)\n",
    "\n",
    "import pandas as pd\n",
    "from sklearn.preprocessing import LabelEncoder\n",
    "import joblib\n",
    "import os\n",
    "\n",
    "# Assuming you have your preprocessed DataFrame 'df' or the individual series of categorical data\n",
    "# Example data (replace with your actual data loading and preprocessing steps)\n",
    "data = {\n",
    "    'gender': ['Male', 'Female', 'Non-binary', 'Male', 'Female'],\n",
    "    'employment_status': ['Employed', 'Student', 'Employed', 'Unemployed', 'Student'],\n",
    "    'work_environment': ['On-site', 'Remote', 'Hybrid', 'On-site', 'Remote'],\n",
    "    'mental_health_history': ['No', 'Yes', 'No', 'Yes', 'No'],\n",
    "    'seeks_treatment': ['No', 'Yes', 'No', 'No', 'Yes'],\n",
    "    'mental_health_risk': ['Low', 'Medium', 'Low', 'High', 'Medium'] # Your target variable\n",
    "}\n",
    "df = pd.DataFrame(data)\n",
    "\n",
    "# Dictionary to hold all label encoders\n",
    "label_encoders = {}\n",
    "\n",
    "# List of categorical features from your dataset that need encoding\n",
    "categorical_features_for_input = [\n",
    "    'gender', 'employment_status', 'work_environment',\n",
    "    'mental_health_history', 'seeks_treatment'\n",
    "]\n",
    "target_feature = 'mental_health_risk' # Your target variable\n",
    "\n",
    "# Fit and store LabelEncoders for input features\n",
    "for feature in categorical_features_for_input:\n",
    "    le = LabelEncoder()\n",
    "    # Ensure you fit on the entire column of your training data\n",
    "    label_encoders[feature] = le.fit(df[feature]) # Use your actual training data's column\n",
    "\n",
    "# Fit and store LabelEncoder for the target variable (mental_health_risk)\n",
    "le_risk = LabelEncoder()\n",
    "label_encoders[target_feature] = le_risk.fit(df[target_feature]) # Use your actual training data's target column\n",
    "\n",
    "# Create the models directory if it doesn't exist\n",
    "models_dir = 'models'\n",
    "os.makedirs(models_dir, exist_ok=True)\n",
    "\n",
    "# Save the dictionary of label encoders\n",
    "joblib.dump(label_encoders, os.path.join(models_dir, 'label_encoder.pkl'))\n",
    "\n",
    "print(\"All label encoders saved successfully as a dictionary in models/label_encoder.pkl\")\n"
   ]
  },
  {
   "cell_type": "code",
   "execution_count": 22,
   "metadata": {
    "id": "-3eM3BWyzp9F"
   },
   "outputs": [],
   "source": [
    "# 3. Identify Categorical and Numerical Columns\n",
    "\n",
    "categorical_cols = ['gender', 'employment_status', 'work_environment', 'mental_health_history', 'seeks_treatment']\n",
    "numerical_cols = X.select_dtypes(include=['int64', 'float64']).columns.tolist()\n",
    "numerical_cols = [col for col in numerical_cols if col not in categorical_cols]"
   ]
  },
  {
   "cell_type": "code",
   "execution_count": 23,
   "metadata": {
    "id": "6Jm5Nids0R6r"
   },
   "outputs": [],
   "source": [
    "# 4. One-Hot Encode Categorical Features\n",
    "\n",
    "X_encoded = pd.get_dummies(X, columns=categorical_cols, drop_first=True)"
   ]
  },
  {
   "cell_type": "code",
   "execution_count": 24,
   "metadata": {
    "colab": {
     "base_uri": "https://localhost:8080/"
    },
    "id": "Ze_0CKbz0R_T",
    "outputId": "050e3091-8e4e-402b-8bdf-39147f689a0b"
   },
   "outputs": [
    {
     "data": {
      "text/plain": [
       "['models/scaler.pkl']"
      ]
     },
     "execution_count": 24,
     "metadata": {},
     "output_type": "execute_result"
    }
   ],
   "source": [
    "# 5. Feature Scaling (StandardScaler)\n",
    "\n",
    "scaler = StandardScaler()\n",
    "X_encoded[numerical_cols] = scaler.fit_transform(X_encoded[numerical_cols])\n",
    "\n",
    "joblib.dump(scaler, \"models/scaler.pkl\")"
   ]
  },
  {
   "cell_type": "code",
   "execution_count": 25,
   "metadata": {
    "colab": {
     "base_uri": "https://localhost:8080/",
     "height": 243
    },
    "id": "MpZ4P97Y002P",
    "outputId": "dc903058-66d0-4779-e8cc-3ad41e34313d"
   },
   "outputs": [
    {
     "data": {
      "text/html": [
       "<div>\n",
       "<style scoped>\n",
       "    .dataframe tbody tr th:only-of-type {\n",
       "        vertical-align: middle;\n",
       "    }\n",
       "\n",
       "    .dataframe tbody tr th {\n",
       "        vertical-align: top;\n",
       "    }\n",
       "\n",
       "    .dataframe thead th {\n",
       "        text-align: right;\n",
       "    }\n",
       "</style>\n",
       "<table border=\"1\" class=\"dataframe\">\n",
       "  <thead>\n",
       "    <tr style=\"text-align: right;\">\n",
       "      <th></th>\n",
       "      <th>age</th>\n",
       "      <th>stress_level</th>\n",
       "      <th>sleep_hours</th>\n",
       "      <th>physical_activity_days</th>\n",
       "      <th>depression_score</th>\n",
       "      <th>anxiety_score</th>\n",
       "      <th>social_support_score</th>\n",
       "      <th>productivity_score</th>\n",
       "      <th>gender_male</th>\n",
       "      <th>gender_non-binary</th>\n",
       "      <th>employment_status_Self-employed</th>\n",
       "      <th>employment_status_Student</th>\n",
       "      <th>employment_status_Unemployed</th>\n",
       "      <th>work_environment_On-site</th>\n",
       "      <th>work_environment_Remote</th>\n",
       "      <th>mental_health_history_Yes</th>\n",
       "      <th>seeks_treatment_Yes</th>\n",
       "    </tr>\n",
       "  </thead>\n",
       "  <tbody>\n",
       "    <tr>\n",
       "      <th>0</th>\n",
       "      <td>1.052408</td>\n",
       "      <td>0.14941</td>\n",
       "      <td>-0.181891</td>\n",
       "      <td>-0.220602</td>\n",
       "      <td>1.441298</td>\n",
       "      <td>1.018829</td>\n",
       "      <td>0.129177</td>\n",
       "      <td>-1.252426</td>\n",
       "      <td>True</td>\n",
       "      <td>False</td>\n",
       "      <td>False</td>\n",
       "      <td>False</td>\n",
       "      <td>False</td>\n",
       "      <td>True</td>\n",
       "      <td>False</td>\n",
       "      <td>True</td>\n",
       "      <td>True</td>\n",
       "    </tr>\n",
       "    <tr>\n",
       "      <th>1</th>\n",
       "      <td>0.324809</td>\n",
       "      <td>1.53745</td>\n",
       "      <td>1.719066</td>\n",
       "      <td>0.217660</td>\n",
       "      <td>1.663945</td>\n",
       "      <td>0.071369</td>\n",
       "      <td>1.189873</td>\n",
       "      <td>-1.594044</td>\n",
       "      <td>False</td>\n",
       "      <td>False</td>\n",
       "      <td>False</td>\n",
       "      <td>True</td>\n",
       "      <td>False</td>\n",
       "      <td>True</td>\n",
       "      <td>False</td>\n",
       "      <td>False</td>\n",
       "      <td>True</td>\n",
       "    </tr>\n",
       "    <tr>\n",
       "      <th>2</th>\n",
       "      <td>-0.693829</td>\n",
       "      <td>0.49642</td>\n",
       "      <td>0.836479</td>\n",
       "      <td>-0.658863</td>\n",
       "      <td>0.996004</td>\n",
       "      <td>-0.560271</td>\n",
       "      <td>0.402905</td>\n",
       "      <td>-1.138553</td>\n",
       "      <td>False</td>\n",
       "      <td>False</td>\n",
       "      <td>False</td>\n",
       "      <td>False</td>\n",
       "      <td>False</td>\n",
       "      <td>True</td>\n",
       "      <td>False</td>\n",
       "      <td>True</td>\n",
       "      <td>False</td>\n",
       "    </tr>\n",
       "    <tr>\n",
       "      <th>3</th>\n",
       "      <td>1.343448</td>\n",
       "      <td>-0.54461</td>\n",
       "      <td>-1.336043</td>\n",
       "      <td>0.217660</td>\n",
       "      <td>-1.007820</td>\n",
       "      <td>-1.665641</td>\n",
       "      <td>1.532033</td>\n",
       "      <td>1.402231</td>\n",
       "      <td>False</td>\n",
       "      <td>True</td>\n",
       "      <td>True</td>\n",
       "      <td>False</td>\n",
       "      <td>False</td>\n",
       "      <td>True</td>\n",
       "      <td>False</td>\n",
       "      <td>False</td>\n",
       "      <td>False</td>\n",
       "    </tr>\n",
       "    <tr>\n",
       "      <th>4</th>\n",
       "      <td>-1.203148</td>\n",
       "      <td>-0.89162</td>\n",
       "      <td>-0.725022</td>\n",
       "      <td>-1.535385</td>\n",
       "      <td>0.996004</td>\n",
       "      <td>0.229279</td>\n",
       "      <td>0.676633</td>\n",
       "      <td>-0.590541</td>\n",
       "      <td>False</td>\n",
       "      <td>False</td>\n",
       "      <td>True</td>\n",
       "      <td>False</td>\n",
       "      <td>False</td>\n",
       "      <td>True</td>\n",
       "      <td>False</td>\n",
       "      <td>True</td>\n",
       "      <td>True</td>\n",
       "    </tr>\n",
       "  </tbody>\n",
       "</table>\n",
       "</div>"
      ],
      "text/plain": [
       "        age  stress_level  sleep_hours  physical_activity_days  \\\n",
       "0  1.052408       0.14941    -0.181891               -0.220602   \n",
       "1  0.324809       1.53745     1.719066                0.217660   \n",
       "2 -0.693829       0.49642     0.836479               -0.658863   \n",
       "3  1.343448      -0.54461    -1.336043                0.217660   \n",
       "4 -1.203148      -0.89162    -0.725022               -1.535385   \n",
       "\n",
       "   depression_score  anxiety_score  social_support_score  productivity_score  \\\n",
       "0          1.441298       1.018829              0.129177           -1.252426   \n",
       "1          1.663945       0.071369              1.189873           -1.594044   \n",
       "2          0.996004      -0.560271              0.402905           -1.138553   \n",
       "3         -1.007820      -1.665641              1.532033            1.402231   \n",
       "4          0.996004       0.229279              0.676633           -0.590541   \n",
       "\n",
       "   gender_male  gender_non-binary  employment_status_Self-employed  \\\n",
       "0         True              False                            False   \n",
       "1        False              False                            False   \n",
       "2        False              False                            False   \n",
       "3        False               True                             True   \n",
       "4        False              False                             True   \n",
       "\n",
       "   employment_status_Student  employment_status_Unemployed  \\\n",
       "0                      False                         False   \n",
       "1                       True                         False   \n",
       "2                      False                         False   \n",
       "3                      False                         False   \n",
       "4                      False                         False   \n",
       "\n",
       "   work_environment_On-site  work_environment_Remote  \\\n",
       "0                      True                    False   \n",
       "1                      True                    False   \n",
       "2                      True                    False   \n",
       "3                      True                    False   \n",
       "4                      True                    False   \n",
       "\n",
       "   mental_health_history_Yes  seeks_treatment_Yes  \n",
       "0                       True                 True  \n",
       "1                      False                 True  \n",
       "2                       True                False  \n",
       "3                      False                False  \n",
       "4                       True                 True  "
      ]
     },
     "execution_count": 25,
     "metadata": {},
     "output_type": "execute_result"
    }
   ],
   "source": [
    "X_encoded.head()"
   ]
  },
  {
   "cell_type": "code",
   "execution_count": 26,
   "metadata": {
    "id": "fCmdhZHv0SCq"
   },
   "outputs": [],
   "source": [
    "# 6. Train/Test Split\n",
    "\n",
    "X_train, X_test, y_train, y_test = train_test_split(X_encoded, y_encoded, test_size=0.2, random_state=42, stratify=y_encoded)"
   ]
  },
  {
   "cell_type": "code",
   "execution_count": 27,
   "metadata": {
    "colab": {
     "base_uri": "https://localhost:8080/"
    },
    "id": "qrcErHkF0SF_",
    "outputId": "6b9a9811-351a-4476-d2c5-18a56359f3a7"
   },
   "outputs": [
    {
     "name": "stdout",
     "output_type": "stream",
     "text": [
      "Training Random Forest...\n",
      " Random Forest Report:\n",
      "               precision    recall  f1-score   support\n",
      "\n",
      "           0       0.98      0.98      0.98       451\n",
      "           1       0.99      0.94      0.96       332\n",
      "           2       0.98      0.99      0.98      1124\n",
      "\n",
      "    accuracy                           0.98      1907\n",
      "   macro avg       0.98      0.97      0.98      1907\n",
      "weighted avg       0.98      0.98      0.98      1907\n",
      "\n"
     ]
    }
   ],
   "source": [
    "#................................. RANDOM FOREST MODEL........................................\n",
    "\n",
    "print(\"Training Random Forest...\")\n",
    "rf_model = RandomForestClassifier(n_estimators=100, random_state=42)\n",
    "rf_model.fit(X_train, y_train)\n",
    "\n",
    "joblib.dump(rf_model, \"models/rf_model.pkl\")\n",
    "y_pred_rf = rf_model.predict(X_test)\n",
    "print(\" Random Forest Report:\\n\", classification_report(y_test, y_pred_rf))"
   ]
  },
  {
   "cell_type": "code",
   "execution_count": 28,
   "metadata": {
    "colab": {
     "base_uri": "https://localhost:8080/"
    },
    "id": "s7A8WP-M2LIx",
    "outputId": "0ca96f16-e824-490f-8b13-94bc44e373a9"
   },
   "outputs": [
    {
     "name": "stdout",
     "output_type": "stream",
     "text": [
      "Training Neural Network...\n"
     ]
    },
    {
     "name": "stderr",
     "output_type": "stream",
     "text": [
      "f:\\anaconda\\Lib\\site-packages\\keras\\src\\layers\\core\\dense.py:93: UserWarning: Do not pass an `input_shape`/`input_dim` argument to a layer. When using Sequential models, prefer using an `Input(shape)` object as the first layer in the model instead.\n",
      "  super().__init__(activity_regularizer=activity_regularizer, **kwargs)\n"
     ]
    }
   ],
   "source": [
    "# 4. NEURAL NETWORK MODEL\n",
    "\n",
    "print(\"Training Neural Network...\")\n",
    "y_train_cat = to_categorical(y_train)\n",
    "y_test_cat = to_categorical(y_test)\n",
    "nn_model = Sequential([\n",
    "    Dense(64, activation='relu', input_shape=(X_train.shape[1],)),\n",
    "    Dropout(0.3),\n",
    "    Dense(32, activation='relu'),\n",
    "    Dropout(0.2),\n",
    "    Dense(3, activation='softmax')\n",
    "])"
   ]
  },
  {
   "cell_type": "code",
   "execution_count": 29,
   "metadata": {
    "id": "0VqvUMPO2LBH"
   },
   "outputs": [],
   "source": [
    "#Compile the model\n",
    "\n",
    "nn_model.compile(optimizer='adam', loss='categorical_crossentropy', metrics=['accuracy'])"
   ]
  },
  {
   "cell_type": "code",
   "execution_count": 30,
   "metadata": {
    "id": "iNPnm-Yj618_"
   },
   "outputs": [],
   "source": [
    "early_stop = EarlyStopping(\n",
    "    monitor='val_loss',           # Monitor validation loss\n",
    "    patience=5,                   # Wait 5 epochs without improvement before stopping\n",
    "    restore_best_weights=True    # Restore the best weights after stopping\n",
    ")"
   ]
  },
  {
   "cell_type": "code",
   "execution_count": 31,
   "metadata": {
    "colab": {
     "base_uri": "https://localhost:8080/"
    },
    "id": "tFBMUA3U2Ky-",
    "outputId": "bd078a9f-f018-4e3c-8335-a593a69522a8"
   },
   "outputs": [
    {
     "name": "stdout",
     "output_type": "stream",
     "text": [
      "Epoch 1/30\n",
      "\u001b[1m191/191\u001b[0m \u001b[32m━━━━━━━━━━━━━━━━━━━━\u001b[0m\u001b[37m\u001b[0m \u001b[1m2s\u001b[0m 3ms/step - accuracy: 0.6324 - loss: 0.8251 - val_accuracy: 0.9050 - val_loss: 0.3274\n",
      "Epoch 2/30\n",
      "\u001b[1m191/191\u001b[0m \u001b[32m━━━━━━━━━━━━━━━━━━━━\u001b[0m\u001b[37m\u001b[0m \u001b[1m0s\u001b[0m 2ms/step - accuracy: 0.8381 - loss: 0.3805 - val_accuracy: 0.9089 - val_loss: 0.2194\n",
      "Epoch 3/30\n",
      "\u001b[1m191/191\u001b[0m \u001b[32m━━━━━━━━━━━━━━━━━━━━\u001b[0m\u001b[37m\u001b[0m \u001b[1m0s\u001b[0m 2ms/step - accuracy: 0.8782 - loss: 0.2961 - val_accuracy: 0.9286 - val_loss: 0.1773\n",
      "Epoch 4/30\n",
      "\u001b[1m191/191\u001b[0m \u001b[32m━━━━━━━━━━━━━━━━━━━━\u001b[0m\u001b[37m\u001b[0m \u001b[1m0s\u001b[0m 2ms/step - accuracy: 0.8931 - loss: 0.2558 - val_accuracy: 0.9384 - val_loss: 0.1571\n",
      "Epoch 5/30\n",
      "\u001b[1m191/191\u001b[0m \u001b[32m━━━━━━━━━━━━━━━━━━━━\u001b[0m\u001b[37m\u001b[0m \u001b[1m0s\u001b[0m 2ms/step - accuracy: 0.9061 - loss: 0.2194 - val_accuracy: 0.9377 - val_loss: 0.1485\n",
      "Epoch 6/30\n",
      "\u001b[1m191/191\u001b[0m \u001b[32m━━━━━━━━━━━━━━━━━━━━\u001b[0m\u001b[37m\u001b[0m \u001b[1m0s\u001b[0m 2ms/step - accuracy: 0.9108 - loss: 0.1960 - val_accuracy: 0.9397 - val_loss: 0.1390\n",
      "Epoch 7/30\n",
      "\u001b[1m191/191\u001b[0m \u001b[32m━━━━━━━━━━━━━━━━━━━━\u001b[0m\u001b[37m\u001b[0m \u001b[1m0s\u001b[0m 2ms/step - accuracy: 0.9275 - loss: 0.1756 - val_accuracy: 0.9495 - val_loss: 0.1232\n",
      "Epoch 8/30\n",
      "\u001b[1m191/191\u001b[0m \u001b[32m━━━━━━━━━━━━━━━━━━━━\u001b[0m\u001b[37m\u001b[0m \u001b[1m0s\u001b[0m 2ms/step - accuracy: 0.9316 - loss: 0.1595 - val_accuracy: 0.9535 - val_loss: 0.1108\n",
      "Epoch 9/30\n",
      "\u001b[1m191/191\u001b[0m \u001b[32m━━━━━━━━━━━━━━━━━━━━\u001b[0m\u001b[37m\u001b[0m \u001b[1m0s\u001b[0m 2ms/step - accuracy: 0.9337 - loss: 0.1590 - val_accuracy: 0.9613 - val_loss: 0.1006\n",
      "Epoch 10/30\n",
      "\u001b[1m191/191\u001b[0m \u001b[32m━━━━━━━━━━━━━━━━━━━━\u001b[0m\u001b[37m\u001b[0m \u001b[1m0s\u001b[0m 2ms/step - accuracy: 0.9388 - loss: 0.1491 - val_accuracy: 0.9620 - val_loss: 0.0943\n",
      "Epoch 11/30\n",
      "\u001b[1m191/191\u001b[0m \u001b[32m━━━━━━━━━━━━━━━━━━━━\u001b[0m\u001b[37m\u001b[0m \u001b[1m0s\u001b[0m 2ms/step - accuracy: 0.9446 - loss: 0.1340 - val_accuracy: 0.9613 - val_loss: 0.0949\n",
      "Epoch 12/30\n",
      "\u001b[1m191/191\u001b[0m \u001b[32m━━━━━━━━━━━━━━━━━━━━\u001b[0m\u001b[37m\u001b[0m \u001b[1m0s\u001b[0m 2ms/step - accuracy: 0.9489 - loss: 0.1196 - val_accuracy: 0.9646 - val_loss: 0.0862\n",
      "Epoch 13/30\n",
      "\u001b[1m191/191\u001b[0m \u001b[32m━━━━━━━━━━━━━━━━━━━━\u001b[0m\u001b[37m\u001b[0m \u001b[1m0s\u001b[0m 2ms/step - accuracy: 0.9519 - loss: 0.1128 - val_accuracy: 0.9659 - val_loss: 0.0776\n",
      "Epoch 14/30\n",
      "\u001b[1m191/191\u001b[0m \u001b[32m━━━━━━━━━━━━━━━━━━━━\u001b[0m\u001b[37m\u001b[0m \u001b[1m0s\u001b[0m 2ms/step - accuracy: 0.9584 - loss: 0.1106 - val_accuracy: 0.9685 - val_loss: 0.0812\n",
      "Epoch 15/30\n",
      "\u001b[1m191/191\u001b[0m \u001b[32m━━━━━━━━━━━━━━━━━━━━\u001b[0m\u001b[37m\u001b[0m \u001b[1m0s\u001b[0m 2ms/step - accuracy: 0.9598 - loss: 0.1017 - val_accuracy: 0.9731 - val_loss: 0.0679\n",
      "Epoch 16/30\n",
      "\u001b[1m191/191\u001b[0m \u001b[32m━━━━━━━━━━━━━━━━━━━━\u001b[0m\u001b[37m\u001b[0m \u001b[1m1s\u001b[0m 3ms/step - accuracy: 0.9638 - loss: 0.0889 - val_accuracy: 0.9731 - val_loss: 0.0673\n",
      "Epoch 17/30\n",
      "\u001b[1m191/191\u001b[0m \u001b[32m━━━━━━━━━━━━━━━━━━━━\u001b[0m\u001b[37m\u001b[0m \u001b[1m0s\u001b[0m 2ms/step - accuracy: 0.9646 - loss: 0.0924 - val_accuracy: 0.9712 - val_loss: 0.0703\n",
      "Epoch 18/30\n",
      "\u001b[1m191/191\u001b[0m \u001b[32m━━━━━━━━━━━━━━━━━━━━\u001b[0m\u001b[37m\u001b[0m \u001b[1m0s\u001b[0m 2ms/step - accuracy: 0.9635 - loss: 0.0887 - val_accuracy: 0.9784 - val_loss: 0.0561\n",
      "Epoch 19/30\n",
      "\u001b[1m191/191\u001b[0m \u001b[32m━━━━━━━━━━━━━━━━━━━━\u001b[0m\u001b[37m\u001b[0m \u001b[1m0s\u001b[0m 2ms/step - accuracy: 0.9705 - loss: 0.0778 - val_accuracy: 0.9764 - val_loss: 0.0585\n",
      "Epoch 20/30\n",
      "\u001b[1m191/191\u001b[0m \u001b[32m━━━━━━━━━━━━━━━━━━━━\u001b[0m\u001b[37m\u001b[0m \u001b[1m0s\u001b[0m 2ms/step - accuracy: 0.9749 - loss: 0.0726 - val_accuracy: 0.9771 - val_loss: 0.0532\n",
      "Epoch 21/30\n",
      "\u001b[1m191/191\u001b[0m \u001b[32m━━━━━━━━━━━━━━━━━━━━\u001b[0m\u001b[37m\u001b[0m \u001b[1m0s\u001b[0m 2ms/step - accuracy: 0.9759 - loss: 0.0679 - val_accuracy: 0.9784 - val_loss: 0.0490\n",
      "Epoch 22/30\n",
      "\u001b[1m191/191\u001b[0m \u001b[32m━━━━━━━━━━━━━━━━━━━━\u001b[0m\u001b[37m\u001b[0m \u001b[1m0s\u001b[0m 2ms/step - accuracy: 0.9739 - loss: 0.0645 - val_accuracy: 0.9823 - val_loss: 0.0444\n",
      "Epoch 23/30\n",
      "\u001b[1m191/191\u001b[0m \u001b[32m━━━━━━━━━━━━━━━━━━━━\u001b[0m\u001b[37m\u001b[0m \u001b[1m0s\u001b[0m 2ms/step - accuracy: 0.9821 - loss: 0.0488 - val_accuracy: 0.9744 - val_loss: 0.0519\n",
      "Epoch 24/30\n",
      "\u001b[1m191/191\u001b[0m \u001b[32m━━━━━━━━━━━━━━━━━━━━\u001b[0m\u001b[37m\u001b[0m \u001b[1m0s\u001b[0m 2ms/step - accuracy: 0.9772 - loss: 0.0596 - val_accuracy: 0.9797 - val_loss: 0.0442\n",
      "Epoch 25/30\n",
      "\u001b[1m191/191\u001b[0m \u001b[32m━━━━━━━━━━━━━━━━━━━━\u001b[0m\u001b[37m\u001b[0m \u001b[1m0s\u001b[0m 2ms/step - accuracy: 0.9733 - loss: 0.0589 - val_accuracy: 0.9830 - val_loss: 0.0423\n",
      "Epoch 26/30\n",
      "\u001b[1m191/191\u001b[0m \u001b[32m━━━━━━━━━━━━━━━━━━━━\u001b[0m\u001b[37m\u001b[0m \u001b[1m0s\u001b[0m 2ms/step - accuracy: 0.9809 - loss: 0.0510 - val_accuracy: 0.9849 - val_loss: 0.0348\n",
      "Epoch 27/30\n",
      "\u001b[1m191/191\u001b[0m \u001b[32m━━━━━━━━━━━━━━━━━━━━\u001b[0m\u001b[37m\u001b[0m \u001b[1m0s\u001b[0m 2ms/step - accuracy: 0.9819 - loss: 0.0490 - val_accuracy: 0.9830 - val_loss: 0.0392\n",
      "Epoch 28/30\n",
      "\u001b[1m191/191\u001b[0m \u001b[32m━━━━━━━━━━━━━━━━━━━━\u001b[0m\u001b[37m\u001b[0m \u001b[1m0s\u001b[0m 2ms/step - accuracy: 0.9842 - loss: 0.0429 - val_accuracy: 0.9843 - val_loss: 0.0376\n",
      "Epoch 29/30\n",
      "\u001b[1m191/191\u001b[0m \u001b[32m━━━━━━━━━━━━━━━━━━━━\u001b[0m\u001b[37m\u001b[0m \u001b[1m0s\u001b[0m 2ms/step - accuracy: 0.9839 - loss: 0.0434 - val_accuracy: 0.9882 - val_loss: 0.0345\n",
      "Epoch 30/30\n",
      "\u001b[1m191/191\u001b[0m \u001b[32m━━━━━━━━━━━━━━━━━━━━\u001b[0m\u001b[37m\u001b[0m \u001b[1m0s\u001b[0m 2ms/step - accuracy: 0.9830 - loss: 0.0429 - val_accuracy: 0.9856 - val_loss: 0.0355\n"
     ]
    }
   ],
   "source": [
    "history = nn_model.fit(X_train, y_train_cat,validation_split=0.2,epochs=30,batch_size=32,callbacks=[early_stop],verbose=1)"
   ]
  },
  {
   "cell_type": "code",
   "execution_count": 32,
   "metadata": {
    "colab": {
     "base_uri": "https://localhost:8080/"
    },
    "id": "TRYh1oG0uGKx",
    "outputId": "670237d6-61fb-4b37-c63f-62e5f31ac066"
   },
   "outputs": [
    {
     "name": "stderr",
     "output_type": "stream",
     "text": [
      "WARNING:absl:You are saving your model as an HDF5 file via `model.save()` or `keras.saving.save_model(model)`. This file format is considered legacy. We recommend using instead the native Keras format, e.g. `model.save('my_model.keras')` or `keras.saving.save_model(model, 'my_model.keras')`. \n"
     ]
    }
   ],
   "source": [
    "nn_model.save(\"models/nn_model.h5\")"
   ]
  },
  {
   "cell_type": "code",
   "execution_count": 33,
   "metadata": {
    "colab": {
     "base_uri": "https://localhost:8080/"
    },
    "id": "eVPpSJQG7dm1",
    "outputId": "5566ad02-5c82-479f-fb6d-0f1fe0624523"
   },
   "outputs": [
    {
     "name": "stdout",
     "output_type": "stream",
     "text": [
      "\u001b[1m60/60\u001b[0m \u001b[32m━━━━━━━━━━━━━━━━━━━━\u001b[0m\u001b[37m\u001b[0m \u001b[1m0s\u001b[0m 1ms/step - accuracy: 0.9908 - loss: 0.0346\n"
     ]
    },
    {
     "data": {
      "text/plain": [
       "[0.031809888780117035, 0.9905610680580139]"
      ]
     },
     "execution_count": 33,
     "metadata": {},
     "output_type": "execute_result"
    }
   ],
   "source": [
    "nn_model.evaluate(X_test, y_test_cat)"
   ]
  },
  {
   "cell_type": "code",
   "execution_count": 34,
   "metadata": {
    "colab": {
     "base_uri": "https://localhost:8080/",
     "height": 472
    },
    "id": "fm8V7sTA7dir",
    "outputId": "7f840731-fc73-4e5d-c7f4-c499211c7621"
   },
   "outputs": [
    {
     "data": {
      "image/png": "[encoded data removed]",
      "text/plain": [
       "<Figure size 640x480 with 1 Axes>"
      ]
     },
     "metadata": {},
     "output_type": "display_data"
    }
   ],
   "source": [
    "plt.plot(history.history['accuracy'], label='Train Accuracy')\n",
    "plt.plot(history.history['val_accuracy'], label='Val Accuracy')\n",
    "plt.plot(history.history['loss'], label='Train Loss')\n",
    "plt.plot(history.history['val_loss'], label='Val Loss')\n",
    "plt.title(\"Training Progress\")\n",
    "plt.xlabel(\"Epochs\")\n",
    "plt.ylabel(\"Value\")\n",
    "plt.legend()\n",
    "plt.show()"
   ]
  },
  {
   "cell_type": "code",
   "execution_count": null,
   "metadata": {
    "id": "losmXpjv7ddO"
   },
   "outputs": [],
   "source": []
  },
  {
   "cell_type": "code",
   "execution_count": null,
   "metadata": {
    "id": "yvVw2tTPvgXS"
   },
   "outputs": [],
   "source": []
  }
 ],
 "metadata": {
  "colab": {
   "provenance": []
  },
  "kernelspec": {
   "display_name": "base",
   "language": "python",
   "name": "python3"
  },
  "language_info": {
   "codemirror_mode": {
    "name": "ipython",
    "version": 3
   },
   "file_extension": ".py",
   "mimetype": "text/x-python",
   "name": "python",
   "nbconvert_exporter": "python",
   "pygments_lexer": "ipython3",
   "version": "3.12.7"
  }
 },
 "nbformat": 4,
 "nbformat_minor": 0
}
